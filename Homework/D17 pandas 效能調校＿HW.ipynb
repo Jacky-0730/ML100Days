{
 "cells": [
  {
   "cell_type": "code",
   "execution_count": null,
   "metadata": {},
   "outputs": [],
   "source": [
    "# 1.在速度較慢的時候，可以先從哪邊開始檢查？\n",
    "#ans: 讀取資料、計算函數\n",
    "#2.資料過大時應採取什麼方式讓記憶體占用量下降？\n",
    "#ans: 將欄位的型態降級"
   ]
  }
 ],
 "metadata": {
  "kernelspec": {
   "display_name": "Python 3",
   "language": "python",
   "name": "python3"
  },
  "language_info": {
   "codemirror_mode": {
    "name": "ipython",
    "version": 3
   },
   "file_extension": ".py",
   "mimetype": "text/x-python",
   "name": "python",
   "nbconvert_exporter": "python",
   "pygments_lexer": "ipython3",
   "version": "3.7.6"
  }
 },
 "nbformat": 4,
 "nbformat_minor": 4
}
